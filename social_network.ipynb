{
 "cells": [
  {
   "cell_type": "code",
   "execution_count": 1,
   "metadata": {},
   "outputs": [
    {
     "name": "stderr",
     "output_type": "stream",
     "text": [
      "Building prefix dict from the default dictionary ...\n",
      "Loading model from cache C:\\Users\\Shaoting\\AppData\\Local\\Temp\\jieba.cache\n"
     ]
    },
    {
     "name": "stdout",
     "output_type": "stream",
     "text": [
      "start process node\n"
     ]
    },
    {
     "name": "stderr",
     "output_type": "stream",
     "text": [
      "Loading model cost 0.579 seconds.\n",
      "Prefix dict has been built successfully.\n"
     ]
    },
    {
     "name": "stdout",
     "output_type": "stream",
     "text": [
      "start to process edge\n",
      "save file successful!\n"
     ]
    }
   ],
   "source": [
    "# -*- coding: utf-8 -*-\n",
    "\n",
    "from __future__ import print_function\n",
    "import jieba\n",
    "import codecs\n",
    "from collections import defaultdict\n",
    "TEXT_PATH = './Dune series/merge.txt'  # text path\n",
    "DICT_PATH = './dictionary/character.txt'  # Character dictionary path\n",
    "SYNONYMOUS_DICT_PATH = './dictionary/synonymous.txt'  # synonym path\n",
    "SAVE_NODE_PATH = 'node.csv'\n",
    "SAVE_EDGE_PATH = 'edge.csv'\n",
    "\n",
    "\n",
    "class RelationshipView:\n",
    "    def __init__(self, text_path, dict_path, synonymous_dict_path):\n",
    "        self._text_path = text_path\n",
    "        self._dict_path = dict_path\n",
    "        self._synonymous_dict_path = synonymous_dict_path\n",
    "\n",
    "        self._person_counter = defaultdict(int)\n",
    "        self._person_per_paragraph = []\n",
    "        self._relationships = {}\n",
    "        self._synonymous_dict = {}\n",
    "\n",
    "    def generate(self):\n",
    "        self.count_person()\n",
    "        self.calc_relationship()\n",
    "        self.save_node_and_edge()\n",
    "\n",
    "    def synonymous_names(self):\n",
    "\n",
    "        with codecs.open(self._synonymous_dict_path, 'r', 'utf-8') as f:\n",
    "            lines = f.read().split('\\r\\n')\n",
    "        for l in lines:\n",
    "            self._synonymous_dict[l.split(' ')[0]] = l.split(' ')[1]\n",
    "        return self._synonymous_dict\n",
    "\n",
    "    def get_clean_paragraphs(self):\n",
    "\n",
    "        with codecs.open(self._text_path, 'r', 'utf-8') as f:\n",
    "            paragraphs = f.read().split('\\r\\n\\r\\n')\n",
    "        return paragraphs\n",
    "\n",
    "    def count_person(self):\n",
    "\n",
    "        paragraphs = self.get_clean_paragraphs()\n",
    "        synonymous = self.synonymous_names()\n",
    "        print('start process node')\n",
    "        with codecs.open(self._dict_path, 'r', 'utf-8') as f:\n",
    "            name_list = f.read().split(' 10 nr\\r\\n')  # Get a clean name_list\n",
    "        for p in paragraphs:\n",
    "            jieba.load_userdict(self._dict_path)\n",
    "            # Word segmentation, initialize a new dictionary for each segment\n",
    "            poss = jieba.cut(p)\n",
    "            self._person_per_paragraph.append([])\n",
    "            for w in poss:\n",
    "                # Determine whether the name is in the dictionary and distinguish between synonyms\n",
    "                if w not in name_list:\n",
    "                    continue\n",
    "                if synonymous.get(w):\n",
    "                    w = synonymous[w]\n",
    "                # Add characters to each paragraph\n",
    "                self._person_per_paragraph[-1].append(w)\n",
    "                # Initialize character relationships and count\n",
    "                if self._person_counter.get(w) is None:\n",
    "                    self._relationships[w] = {}\n",
    "                self._person_counter[w] += 1\n",
    "        return self._person_counter\n",
    "\n",
    "\n",
    "    def calc_relationship(self):\n",
    "\n",
    "        print(\"start to process edge\")\n",
    "        # Traverse each paragraph, form a Cartesian product, and count the relationships between characters\n",
    "        for p in self._person_per_paragraph:\n",
    "            for name1 in p:\n",
    "                for name2 in p:\n",
    "                    if name1 == name2:\n",
    "                        continue\n",
    "                    if self._relationships[name1].get(name2) is None:\n",
    "                        self._relationships[name1][name2] = 1\n",
    "                    else:\n",
    "                        self._relationships[name1][name2] += 1\n",
    "        return self._relationships\n",
    "\n",
    "    def save_node_and_edge(self):\n",
    "\n",
    "        with codecs.open(SAVE_NODE_PATH, \"a+\", \"utf-8\") as f:\n",
    "            f.write(\"Id,Label,Weight\\r\\n\")\n",
    "            for name, times in self._person_counter.items():\n",
    "                f.write(name + \",\" + name + \",\" + str(times) + \"\\r\\n\")\n",
    "\n",
    "        with codecs.open(SAVE_EDGE_PATH, \"a+\", \"utf-8\") as f:\n",
    "            f.write(\"Source,Target,Weight\\r\\n\")\n",
    "            for name, edges in self._relationships.items():\n",
    "                for v, w in edges.items():\n",
    "                    if w > 3:\n",
    "                        f.write(name + \",\" + v + \",\" + str(w) + \"\\r\\n\")\n",
    "        print('save file successful!')\n",
    "\n",
    "\n",
    "if __name__ == '__main__':\n",
    "    v = RelationshipView(TEXT_PATH, DICT_PATH, SYNONYMOUS_DICT_PATH)\n",
    "    v.generate()"
   ]
  },
  {
   "cell_type": "code",
   "execution_count": null,
   "metadata": {},
   "outputs": [],
   "source": []
  }
 ],
 "metadata": {
  "kernelspec": {
   "display_name": "Python 3",
   "language": "python",
   "name": "python3"
  },
  "language_info": {
   "codemirror_mode": {
    "name": "ipython",
    "version": 3
   },
   "file_extension": ".py",
   "mimetype": "text/x-python",
   "name": "python",
   "nbconvert_exporter": "python",
   "pygments_lexer": "ipython3",
   "version": "3.8.3"
  }
 },
 "nbformat": 4,
 "nbformat_minor": 4
}
